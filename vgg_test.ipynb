{
 "cells": [
  {
   "cell_type": "code",
   "execution_count": 20,
   "metadata": {
    "collapsed": true,
    "slideshow": {
     "slide_type": "skip"
    }
   },
   "outputs": [],
   "source": [
    "import numpy as np\n",
    "import urllib\n",
    "from matplotlib import pyplot as plt\n",
    "\n",
    "from notebook.services.config import ConfigManager\n",
    "\n",
    "cm = ConfigManager()\n",
    "cm.update('livereveal', {\n",
    "              'theme': 'league',\n",
    "              'transition': 'fade',\n",
    "              'center': 'false',\n",
    "              'overview' : 'true',\n",
    "              'start_slideshow_at': 'selected'\n",
    "})\n",
    "\n",
    "%matplotlib inline"
   ]
  },
  {
   "cell_type": "code",
   "execution_count": 21,
   "metadata": {},
   "outputs": [
    {
     "data": {
      "text/plain": [
       "'/home/sebas/Programas/Anaconda3/envs/tensorflow/bin/python'"
      ]
     },
     "execution_count": 21,
     "metadata": {},
     "output_type": "execute_result"
    }
   ],
   "source": [
    "import sys\n",
    "sys.executable"
   ]
  },
  {
   "cell_type": "code",
   "execution_count": 22,
   "metadata": {
    "slideshow": {
     "slide_type": "skip"
    }
   },
   "outputs": [],
   "source": [
    "# This example is based on the convnets-keras project:\n",
    "#    https://github.com/heuritech/convnets-keras\n",
    "#    https://github.com/DL-UNAL/convnets-keras\n",
    "\n",
    "from keras.optimizers import SGD\n",
    "from convnetskeras.convnets import preprocess_image_batch, convnet\n",
    "from convnetskeras.imagenet_tool import synset_to_dfs_ids\n",
    "from keras.backend import image_dim_ordering, set_image_dim_ordering\n",
    "\n",
    "# Image dimensions ordering should follow the Theano convention\n",
    "if image_dim_ordering() != 'th':\n",
    "    set_image_dim_ordering('th')\n",
    "\n",
    "# Load labels for the 1000 ImageNet classes\n",
    "with open('labels.txt','r') as labels_file:\n",
    "    labels = eval(labels_file.read())"
   ]
  },
  {
   "cell_type": "markdown",
   "metadata": {
    "slideshow": {
     "slide_type": "slide"
    }
   },
   "source": [
    "# VGG Neural Net Test\n",
    "[Fabio A. González](http://dis.unal.edu.co/~fgonza/), Universidad Nacional de Colombia\n"
   ]
  },
  {
   "cell_type": "markdown",
   "metadata": {
    "slideshow": {
     "slide_type": "slide"
    }
   },
   "source": [
    "<table style=\"border:0px\">\n",
    "  <tr>\n",
    "    <th><img  src=\"vgg_1.jpg\" width=\"550\"></th>\n",
    "    <th><img  src=\"vgg_2.jpg\" width=\"550\"></th>\n",
    "  </tr>\n",
    "</table>\n"
   ]
  },
  {
   "cell_type": "code",
   "execution_count": 23,
   "metadata": {},
   "outputs": [],
   "source": [
    "import keras\n",
    "import os\n",
    "from keras.optimizers import SGD\n",
    "\n",
    "# You must download the file vgg16_weights.h5 from http://files.heuritech.com/weights/vgg16_weights.h5\n",
    "WEIGHTS_DIR = os.path.abspath(\"./weights\")\n",
    "\n",
    "keras.utils.data_utils.get_file(\"vgg16_weights.h5\", \n",
    "                       origin=\"http://files.heuritech.com/weights/vgg16_weights.h5\",\n",
    "                      cache_subdir=WEIGHTS_DIR)\n",
    "\n",
    "sgd = SGD(lr=0.1, decay=1e-6, momentum=0.9, nesterov=True)\n",
    "model = convnet('vgg_16', weights_path = os.path.join(WEIGHTS_DIR, \"vgg16_weights.h5\"), heatmap=False)\n",
    "\n",
    "model.compile(optimizer=sgd, loss='mse')"
   ]
  },
  {
   "cell_type": "code",
   "execution_count": 24,
   "metadata": {
    "scrolled": true,
    "slideshow": {
     "slide_type": "fragment"
    }
   },
   "outputs": [
    {
     "name": "stdout",
     "output_type": "stream",
     "text": [
      "______________________________________________________________________\n",
      "Layer (type)                   Output Shape                Param #    \n",
      "======================================================================\n",
      "zero_padding2d_79 (ZeroPadding (None, 3, 226, 226)         0          \n",
      "______________________________________________________________________\n",
      "conv1_1 (Conv2D)               (None, 64, 224, 224)        1792       \n",
      "______________________________________________________________________\n",
      "zero_padding2d_80 (ZeroPadding (None, 64, 226, 226)        0          \n",
      "______________________________________________________________________\n",
      "conv1_2 (Conv2D)               (None, 64, 224, 224)        36928      \n",
      "______________________________________________________________________\n",
      "max_pooling2d_31 (MaxPooling2D (None, 64, 112, 112)        0          \n",
      "______________________________________________________________________\n",
      "zero_padding2d_81 (ZeroPadding (None, 64, 114, 114)        0          \n",
      "______________________________________________________________________\n",
      "conv2_1 (Conv2D)               (None, 128, 112, 112)       73856      \n",
      "______________________________________________________________________\n",
      "zero_padding2d_82 (ZeroPadding (None, 128, 114, 114)       0          \n",
      "______________________________________________________________________\n",
      "conv2_2 (Conv2D)               (None, 128, 112, 112)       147584     \n",
      "______________________________________________________________________\n",
      "max_pooling2d_32 (MaxPooling2D (None, 128, 56, 56)         0          \n",
      "______________________________________________________________________\n",
      "zero_padding2d_83 (ZeroPadding (None, 128, 58, 58)         0          \n",
      "______________________________________________________________________\n",
      "conv3_1 (Conv2D)               (None, 256, 56, 56)         295168     \n",
      "______________________________________________________________________\n",
      "zero_padding2d_84 (ZeroPadding (None, 256, 58, 58)         0          \n",
      "______________________________________________________________________\n",
      "conv3_2 (Conv2D)               (None, 256, 56, 56)         590080     \n",
      "______________________________________________________________________\n",
      "zero_padding2d_85 (ZeroPadding (None, 256, 58, 58)         0          \n",
      "______________________________________________________________________\n",
      "conv3_3 (Conv2D)               (None, 256, 56, 56)         590080     \n",
      "______________________________________________________________________\n",
      "max_pooling2d_33 (MaxPooling2D (None, 256, 28, 28)         0          \n",
      "______________________________________________________________________\n",
      "zero_padding2d_86 (ZeroPadding (None, 256, 30, 30)         0          \n",
      "______________________________________________________________________\n",
      "conv4_1 (Conv2D)               (None, 512, 28, 28)         1180160    \n",
      "______________________________________________________________________\n",
      "zero_padding2d_87 (ZeroPadding (None, 512, 30, 30)         0          \n",
      "______________________________________________________________________\n",
      "conv4_2 (Conv2D)               (None, 512, 28, 28)         2359808    \n",
      "______________________________________________________________________\n",
      "zero_padding2d_88 (ZeroPadding (None, 512, 30, 30)         0          \n",
      "______________________________________________________________________\n",
      "conv4_3 (Conv2D)               (None, 512, 28, 28)         2359808    \n",
      "______________________________________________________________________\n",
      "max_pooling2d_34 (MaxPooling2D (None, 512, 14, 14)         0          \n",
      "______________________________________________________________________\n",
      "zero_padding2d_89 (ZeroPadding (None, 512, 16, 16)         0          \n",
      "______________________________________________________________________\n",
      "conv5_1 (Conv2D)               (None, 512, 14, 14)         2359808    \n",
      "______________________________________________________________________\n",
      "zero_padding2d_90 (ZeroPadding (None, 512, 16, 16)         0          \n",
      "______________________________________________________________________\n",
      "conv5_2 (Conv2D)               (None, 512, 14, 14)         2359808    \n",
      "______________________________________________________________________\n",
      "zero_padding2d_91 (ZeroPadding (None, 512, 16, 16)         0          \n",
      "______________________________________________________________________\n",
      "conv5_3 (Conv2D)               (None, 512, 14, 14)         2359808    \n",
      "______________________________________________________________________\n",
      "max_pooling2d_35 (MaxPooling2D (None, 512, 7, 7)           0          \n",
      "______________________________________________________________________\n",
      "flatten (Flatten)              (None, 25088)               0          \n",
      "______________________________________________________________________\n",
      "dense_1 (Dense)                (None, 4096)                102764544  \n",
      "______________________________________________________________________\n",
      "dropout_11 (Dropout)           (None, 4096)                0          \n",
      "______________________________________________________________________\n",
      "dense_2 (Dense)                (None, 4096)                16781312   \n",
      "______________________________________________________________________\n",
      "dropout_12 (Dropout)           (None, 4096)                0          \n",
      "______________________________________________________________________\n",
      "dense_3 (Dense)                (None, 1000)                4097000    \n",
      "______________________________________________________________________\n",
      "softmax (Activation)           (None, 1000)                0          \n",
      "======================================================================\n",
      "Total params: 138,357,544\n",
      "Trainable params: 138,357,544\n",
      "Non-trainable params: 0\n",
      "______________________________________________________________________\n"
     ]
    }
   ],
   "source": [
    "model.summary(70)"
   ]
  },
  {
   "cell_type": "code",
   "execution_count": 25,
   "metadata": {
    "collapsed": true,
    "slideshow": {
     "slide_type": "skip"
    }
   },
   "outputs": [],
   "source": [
    "def pp_prediction(pred):\n",
    "    return sorted([(p, labels[i]) for i, p in enumerate(pred)], reverse = True)[:5]\n",
    "    "
   ]
  },
  {
   "cell_type": "markdown",
   "metadata": {
    "slideshow": {
     "slide_type": "subslide"
    }
   },
   "source": [
    "## Predict image label"
   ]
  },
  {
   "cell_type": "code",
   "execution_count": 26,
   "metadata": {
    "collapsed": true,
    "slideshow": {
     "slide_type": "fragment"
    }
   },
   "outputs": [],
   "source": [
    "#urllib.urlretrieve(\"https://yt3.ggpht.com/-i4gGqLWlYQs/AAAAAAAAAAI/AAAAAAAAAAA/Vj0B9SlZfmA/s900-c-k-no-mo-rj-c0xffffff/photo.jpg\",\n",
    "#                   \"test.jpg\")"
   ]
  },
  {
   "cell_type": "markdown",
   "metadata": {
    "slideshow": {
     "slide_type": "fragment"
    }
   },
   "source": [
    "<img  src=\"test.jpg\" width=\"250\">"
   ]
  },
  {
   "cell_type": "code",
   "execution_count": 27,
   "metadata": {
    "slideshow": {
     "slide_type": "fragment"
    }
   },
   "outputs": [
    {
     "data": {
      "text/plain": [
       "[(0.18006681, 'bow tie, bow-tie, bowtie'),\n",
       " (0.1655378, 'Egyptian cat'),\n",
       " (0.14227881, 'tabby, tabby cat'),\n",
       " (0.041888811, 'mask'),\n",
       " (0.027920509, 'pug, pug-dog')]"
      ]
     },
     "execution_count": 27,
     "metadata": {},
     "output_type": "execute_result"
    }
   ],
   "source": [
    "im = preprocess_image_batch(['test.jpg'],img_size=(256,256), crop_size=(224,224), color_mode=\"bgr\")\n",
    "out = model.predict(im)[0]\n",
    "pp_prediction(out)"
   ]
  },
  {
   "cell_type": "markdown",
   "metadata": {
    "slideshow": {
     "slide_type": "slide"
    }
   },
   "source": [
    "## Concept Heatmap"
   ]
  },
  {
   "cell_type": "code",
   "execution_count": 28,
   "metadata": {
    "slideshow": {
     "slide_type": "fragment"
    }
   },
   "outputs": [
    {
     "name": "stderr",
     "output_type": "stream",
     "text": [
      "/home/sebas/Programas/Anaconda3/envs/tensorflow/lib/python3.5/site-packages/keras/engine/topology.py:615: UserWarning: Class `convnetskeras.customlayers.Softmax4D` defines `get_output_shape_for` but does not override `compute_output_shape`. If this is a Keras 1 layer, please implement `compute_output_shape` to support Keras 2.\n",
      "  output_shape = self.compute_output_shape(input_shape)\n"
     ]
    }
   ],
   "source": [
    "# Reload model with heatmap activated\n",
    "sgd = SGD(lr=0.1, decay=1e-6, momentum=0.9, nesterov=True)\n",
    "model2 = convnet('vgg_16', weights_path=\"./weights/vgg16_weights.h5\", heatmap=True)\n",
    "model2.compile(optimizer=sgd, loss='mse')"
   ]
  },
  {
   "cell_type": "code",
   "execution_count": 29,
   "metadata": {
    "collapsed": true,
    "slideshow": {
     "slide_type": "fragment"
    }
   },
   "outputs": [],
   "source": [
    "# Process input image\n",
    "im = preprocess_image_batch(['test.jpg'], color_mode=\"bgr\")\n",
    "out = model2.predict(im)"
   ]
  },
  {
   "cell_type": "markdown",
   "metadata": {
    "slideshow": {
     "slide_type": "subslide"
    }
   },
   "source": [
    "## Heatmap for Egyptian cat"
   ]
  },
  {
   "cell_type": "code",
   "execution_count": 30,
   "metadata": {
    "slideshow": {
     "slide_type": "fragment"
    }
   },
   "outputs": [
    {
     "data": {
      "text/plain": [
       "<matplotlib.image.AxesImage at 0x7fafebf6ac18>"
      ]
     },
     "execution_count": 30,
     "metadata": {},
     "output_type": "execute_result"
    },
    {
     "data": {
      "image/png": "[encoded data removed]",
      "text/plain": [
       "<matplotlib.figure.Figure at 0x7fafec08dfd0>"
      ]
     },
     "metadata": {},
     "output_type": "display_data"
    }
   ],
   "source": [
    "s = 'n02124075' # Egyptian cat synset ID\n",
    "ids = synset_to_dfs_ids(s)\n",
    "heatmap = out[0,ids].sum(axis=0)\n",
    "plt.imshow(heatmap)"
   ]
  },
  {
   "cell_type": "markdown",
   "metadata": {
    "slideshow": {
     "slide_type": "subslide"
    }
   },
   "source": [
    "## Heatmap for Domestic cat (more general concept)"
   ]
  },
  {
   "cell_type": "code",
   "execution_count": 31,
   "metadata": {
    "slideshow": {
     "slide_type": "fragment"
    }
   },
   "outputs": [
    {
     "name": "stdout",
     "output_type": "stream",
     "text": [
      "[285, 283, 282, 284, 281]\n"
     ]
    },
    {
     "data": {
      "text/plain": [
       "<matplotlib.image.AxesImage at 0x7fafebea9d68>"
      ]
     },
     "execution_count": 31,
     "metadata": {},
     "output_type": "execute_result"
    },
    {
     "data": {
      "image/png": "[encoded data removed]",
      "text/plain": [
       "<matplotlib.figure.Figure at 0x7fafebf89fd0>"
      ]
     },
     "metadata": {},
     "output_type": "display_data"
    }
   ],
   "source": [
    "s = 'n02121808' # Egyptian cat synset ID\n",
    "ids = synset_to_dfs_ids(s)\n",
    "print(ids)\n",
    "heatmap = out[0,ids].sum(axis=0)\n",
    "plt.imshow(heatmap)"
   ]
  },
  {
   "cell_type": "markdown",
   "metadata": {
    "slideshow": {
     "slide_type": "subslide"
    }
   },
   "source": [
    "## Heatmap for Neckwear"
   ]
  },
  {
   "cell_type": "code",
   "execution_count": 32,
   "metadata": {
    "slideshow": {
     "slide_type": "fragment"
    }
   },
   "outputs": [
    {
     "data": {
      "text/plain": [
       "<matplotlib.image.AxesImage at 0x7fafebe946a0>"
      ]
     },
     "execution_count": 32,
     "metadata": {},
     "output_type": "execute_result"
    },
    {
     "data": {
      "image/png": "[encoded data removed]",
      "text/plain": [
       "<matplotlib.figure.Figure at 0x7fafebed30b8>"
      ]
     },
     "metadata": {},
     "output_type": "display_data"
    }
   ],
   "source": [
    "s = 'n03816005' # Neckwear synset ID\n",
    "ids = synset_to_dfs_ids(s)\n",
    "heatmap = out[0,ids].sum(axis=0)\n",
    "plt.imshow(heatmap)"
   ]
  },
  {
   "cell_type": "markdown",
   "metadata": {
    "slideshow": {
     "slide_type": "subslide"
    }
   },
   "source": [
    "## Heatmap for Clothing"
   ]
  },
  {
   "cell_type": "code",
   "execution_count": 33,
   "metadata": {
    "slideshow": {
     "slide_type": "fragment"
    }
   },
   "outputs": [
    {
     "data": {
      "text/plain": [
       "<matplotlib.image.AxesImage at 0x7fafebe01be0>"
      ]
     },
     "execution_count": 33,
     "metadata": {},
     "output_type": "execute_result"
    },
    {
     "data": {
      "image/png": "[encoded data removed]",
      "text/plain": [
       "<matplotlib.figure.Figure at 0x7fafebe42320>"
      ]
     },
     "metadata": {},
     "output_type": "display_data"
    }
   ],
   "source": [
    "s = 'n03051540' # Suit synset ID\n",
    "#s = \"n02503517\"\n",
    "ids = synset_to_dfs_ids(s)\n",
    "heatmap = out[0,ids].sum(axis=0)\n",
    "plt.imshow(heatmap)"
   ]
  }
 ],
 "metadata": {
  "celltoolbar": "Slideshow",
  "kernelspec": {
   "display_name": "Python 3",
   "language": "python",
   "name": "python3"
  },
  "language_info": {
   "codemirror_mode": {
    "name": "ipython",
    "version": 3
   },
   "file_extension": ".py",
   "mimetype": "text/x-python",
   "name": "python",
   "nbconvert_exporter": "python",
   "pygments_lexer": "ipython3",
   "version": "3.5.3"
  }
 },
 "nbformat": 4,
 "nbformat_minor": 1
}
