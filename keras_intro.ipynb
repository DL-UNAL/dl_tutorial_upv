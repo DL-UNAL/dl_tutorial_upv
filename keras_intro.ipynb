{
 "cells": [
  {
   "cell_type": "code",
   "execution_count": 1,
   "metadata": {
    "collapsed": false,
    "slideshow": {
     "slide_type": "skip"
    }
   },
   "outputs": [
    {
     "name": "stderr",
     "output_type": "stream",
     "text": [
      "/Users/fgonza/anaconda/lib/python2.7/site-packages/matplotlib/font_manager.py:273: UserWarning: Matplotlib is building the font cache using fc-list. This may take a moment.\n",
      "  warnings.warn('Matplotlib is building the font cache using fc-list. This may take a moment.')\n"
     ]
    }
   ],
   "source": [
    "import numpy as np\n",
    "import pandas as pd\n",
    "from matplotlib import pyplot as plt\n",
    "pd.set_option('notebook_repr_html',True)\n",
    "\n",
    "from notebook.services.config import ConfigManager\n",
    "\n",
    "cm = ConfigManager()\n",
    "cm.update('livereveal', {\n",
    "              'theme': 'league',\n",
    "              'transition': 'fade',\n",
    "              'center': 'false',\n",
    "              'overview' : 'true',\n",
    "              'start_slideshow_at': 'selected'\n",
    "})\n",
    "\n",
    "%matplotlib inline"
   ]
  },
  {
   "cell_type": "markdown",
   "metadata": {
    "slideshow": {
     "slide_type": "slide"
    }
   },
   "source": [
    "# Quick and Dirty Introduction to Keras\n",
    "\n",
    "[Fabio A. González](http://dis.unal.edu.co/~fgonza/), Universidad Nacional de Colombia"
   ]
  },
  {
   "cell_type": "markdown",
   "metadata": {
    "slideshow": {
     "class": "center",
     "slide_type": "slide"
    }
   },
   "source": [
    "## Keras\n",
    "### Deep Learning library for Theano and TensorFlow (https://keras.io/)\n",
    "\n",
    "\n",
    "* Allows for easy and fast prototyping (through total modularity, minimalism, and extensibility).\n",
    "* Supports both convolutional networks and recurrent networks, as well as combinations of the two.\n",
    "* Supports arbitrary connectivity schemes (including multi-input and multi-output training).\n",
    "* Runs seamlessly on CPU and GPU."
   ]
  },
  {
   "cell_type": "markdown",
   "metadata": {
    "slideshow": {
     "slide_type": "slide"
    }
   },
   "source": [
    "## The Little Red Riding Hood Neural Network\n",
    "\n",
    "<img src=\"http://themaleharem.com/wp-content/uploads/2014/06/Walter-crane-little-red-riding-hood-meets-the-wolf-in-the-woods.jpg\">"
   ]
  },
  {
   "cell_type": "markdown",
   "metadata": {
    "slideshow": {
     "slide_type": "subslide"
    }
   },
   "source": [
    "## LRRH Network Architecture\n",
    "\n",
    "<img src=\"lrrh_net.jpg\" width=\"600\">"
   ]
  },
  {
   "cell_type": "markdown",
   "metadata": {
    "slideshow": {
     "slide_type": "subslide"
    }
   },
   "source": [
    "## Defining a neural network model\n"
   ]
  },
  {
   "cell_type": "code",
   "execution_count": 2,
   "metadata": {
    "collapsed": false,
    "slideshow": {
     "slide_type": "fragment"
    }
   },
   "outputs": [
    {
     "name": "stderr",
     "output_type": "stream",
     "text": [
      "Using Theano backend.\n"
     ]
    }
   ],
   "source": [
    "from keras.models import Sequential\n",
    "from keras.optimizers import SGD\n",
    "from keras.layers import Dense, Activation\n",
    "\n",
    "model = Sequential()\n",
    "\n",
    "model.add(Dense(output_dim=3, input_dim=4))\n",
    "model.add(Activation(\"sigmoid\"))\n",
    "model.add(Dense(output_dim=4))\n",
    "model.add(Activation(\"sigmoid\"))\n",
    "\n",
    "model.compile(loss='mse', \n",
    "              optimizer=SGD(lr = 1))"
   ]
  },
  {
   "cell_type": "code",
   "execution_count": 3,
   "metadata": {
    "collapsed": false,
    "slideshow": {
     "slide_type": "subslide"
    }
   },
   "outputs": [
    {
     "name": "stdout",
     "output_type": "stream",
     "text": [
      "______________________________________________________________________\n",
      "Layer (type)           Output Shape   Param # Connected to            \n",
      "======================================================================\n",
      "dense_1 (Dense)        (None, 3)      15      dense_input_1[0][0]     \n",
      "______________________________________________________________________\n",
      "activation_1 (Activatio(None, 3)      0       dense_1[0][0]           \n",
      "______________________________________________________________________\n",
      "dense_2 (Dense)        (None, 4)      16      activation_1[0][0]      \n",
      "______________________________________________________________________\n",
      "activation_2 (Activatio(None, 4)      0       dense_2[0][0]           \n",
      "======================================================================\n",
      "Total params: 31\n",
      "______________________________________________________________________\n"
     ]
    }
   ],
   "source": [
    "model.summary(70)"
   ]
  },
  {
   "cell_type": "code",
   "execution_count": 4,
   "metadata": {
    "collapsed": false,
    "slideshow": {
     "slide_type": "subslide"
    }
   },
   "outputs": [
    {
     "data": {
      "image/svg+xml": [
       "<svg height=\"405pt\" viewBox=\"0.00 0.00 305.98 405.00\" width=\"306pt\" xmlns=\"http://www.w3.org/2000/svg\" xmlns:xlink=\"http://www.w3.org/1999/xlink\">\n",
       "<g class=\"graph\" id=\"graph0\" transform=\"scale(1 1) rotate(0) translate(4 401)\">\n",
       "<title>G</title>\n",
       "<polygon fill=\"white\" points=\"-4,4 -4,-401 301.984,-401 301.984,4 -4,4\" stroke=\"none\"/>\n",
       "<!-- 4695612240 -->\n",
       "<g class=\"node\" id=\"node1\"><title>4695612240</title>\n",
       "<polygon fill=\"none\" points=\"0,-346.9 0,-396.5 297.984,-396.5 297.984,-346.9 0,-346.9\" stroke=\"black\"/>\n",
       "<text font-family=\"Times,serif\" font-size=\"14.00\" text-anchor=\"middle\" x=\"86.3349\" y=\"-367.5\">dense_input_1 (InputLayer)</text>\n",
       "<polyline fill=\"none\" points=\"172.67,-346.9 172.67,-396.5 \" stroke=\"black\"/>\n",
       "<text font-family=\"Times,serif\" font-size=\"14.00\" text-anchor=\"middle\" x=\"200.506\" y=\"-379.9\">input:</text>\n",
       "<polyline fill=\"none\" points=\"172.67,-371.7 228.342,-371.7 \" stroke=\"black\"/>\n",
       "<text font-family=\"Times,serif\" font-size=\"14.00\" text-anchor=\"middle\" x=\"200.506\" y=\"-355.1\">output:</text>\n",
       "<polyline fill=\"none\" points=\"228.342,-346.9 228.342,-396.5 \" stroke=\"black\"/>\n",
       "<text font-family=\"Times,serif\" font-size=\"14.00\" text-anchor=\"middle\" x=\"263.163\" y=\"-379.9\">(None, 4)</text>\n",
       "<polyline fill=\"none\" points=\"228.342,-371.7 297.984,-371.7 \" stroke=\"black\"/>\n",
       "<text font-family=\"Times,serif\" font-size=\"14.00\" text-anchor=\"middle\" x=\"263.163\" y=\"-355.1\">(None, 4)</text>\n",
       "</g>\n",
       "<!-- 4647627280 -->\n",
       "<g class=\"node\" id=\"node2\"><title>4647627280</title>\n",
       "<polygon fill=\"none\" points=\"31.4972,-260.3 31.4972,-309.9 266.487,-309.9 266.487,-260.3 31.4972,-260.3\" stroke=\"black\"/>\n",
       "<text font-family=\"Times,serif\" font-size=\"14.00\" text-anchor=\"middle\" x=\"86.3349\" y=\"-280.9\">dense_1 (Dense)</text>\n",
       "<polyline fill=\"none\" points=\"141.173,-260.3 141.173,-309.9 \" stroke=\"black\"/>\n",
       "<text font-family=\"Times,serif\" font-size=\"14.00\" text-anchor=\"middle\" x=\"169.009\" y=\"-293.3\">input:</text>\n",
       "<polyline fill=\"none\" points=\"141.173,-285.1 196.844,-285.1 \" stroke=\"black\"/>\n",
       "<text font-family=\"Times,serif\" font-size=\"14.00\" text-anchor=\"middle\" x=\"169.009\" y=\"-268.5\">output:</text>\n",
       "<polyline fill=\"none\" points=\"196.844,-260.3 196.844,-309.9 \" stroke=\"black\"/>\n",
       "<text font-family=\"Times,serif\" font-size=\"14.00\" text-anchor=\"middle\" x=\"231.666\" y=\"-293.3\">(None, 4)</text>\n",
       "<polyline fill=\"none\" points=\"196.844,-285.1 266.487,-285.1 \" stroke=\"black\"/>\n",
       "<text font-family=\"Times,serif\" font-size=\"14.00\" text-anchor=\"middle\" x=\"231.666\" y=\"-268.5\">(None, 3)</text>\n",
       "</g>\n",
       "<!-- 4695612240&#45;&gt;4647627280 -->\n",
       "<g class=\"edge\" id=\"edge1\"><title>4695612240-&gt;4647627280</title>\n",
       "<path d=\"M148.992,-346.683C148.992,-338.467 148.992,-329.112 148.992,-320.252\" fill=\"none\" stroke=\"black\"/>\n",
       "<polygon fill=\"black\" points=\"152.492,-320.177 148.992,-310.177 145.492,-320.177 152.492,-320.177\" stroke=\"black\"/>\n",
       "</g>\n",
       "<!-- 4695612112 -->\n",
       "<g class=\"node\" id=\"node3\"><title>4695612112</title>\n",
       "<polygon fill=\"none\" points=\"7.7721,-173.7 7.7721,-223.3 290.212,-223.3 290.212,-173.7 7.7721,-173.7\" stroke=\"black\"/>\n",
       "<text font-family=\"Times,serif\" font-size=\"14.00\" text-anchor=\"middle\" x=\"86.3349\" y=\"-194.3\">activation_1 (Activation)</text>\n",
       "<polyline fill=\"none\" points=\"164.898,-173.7 164.898,-223.3 \" stroke=\"black\"/>\n",
       "<text font-family=\"Times,serif\" font-size=\"14.00\" text-anchor=\"middle\" x=\"192.734\" y=\"-206.7\">input:</text>\n",
       "<polyline fill=\"none\" points=\"164.898,-198.5 220.57,-198.5 \" stroke=\"black\"/>\n",
       "<text font-family=\"Times,serif\" font-size=\"14.00\" text-anchor=\"middle\" x=\"192.734\" y=\"-181.9\">output:</text>\n",
       "<polyline fill=\"none\" points=\"220.57,-173.7 220.57,-223.3 \" stroke=\"black\"/>\n",
       "<text font-family=\"Times,serif\" font-size=\"14.00\" text-anchor=\"middle\" x=\"255.391\" y=\"-206.7\">(None, 3)</text>\n",
       "<polyline fill=\"none\" points=\"220.57,-198.5 290.212,-198.5 \" stroke=\"black\"/>\n",
       "<text font-family=\"Times,serif\" font-size=\"14.00\" text-anchor=\"middle\" x=\"255.391\" y=\"-181.9\">(None, 3)</text>\n",
       "</g>\n",
       "<!-- 4647627280&#45;&gt;4695612112 -->\n",
       "<g class=\"edge\" id=\"edge2\"><title>4647627280-&gt;4695612112</title>\n",
       "<path d=\"M148.992,-260.083C148.992,-251.867 148.992,-242.512 148.992,-233.652\" fill=\"none\" stroke=\"black\"/>\n",
       "<polygon fill=\"black\" points=\"152.492,-233.577 148.992,-223.577 145.492,-233.577 152.492,-233.577\" stroke=\"black\"/>\n",
       "</g>\n",
       "<!-- 4696661456 -->\n",
       "<g class=\"node\" id=\"node4\"><title>4696661456</title>\n",
       "<polygon fill=\"none\" points=\"31.4972,-87.1 31.4972,-136.7 266.487,-136.7 266.487,-87.1 31.4972,-87.1\" stroke=\"black\"/>\n",
       "<text font-family=\"Times,serif\" font-size=\"14.00\" text-anchor=\"middle\" x=\"86.3349\" y=\"-107.7\">dense_2 (Dense)</text>\n",
       "<polyline fill=\"none\" points=\"141.173,-87.1 141.173,-136.7 \" stroke=\"black\"/>\n",
       "<text font-family=\"Times,serif\" font-size=\"14.00\" text-anchor=\"middle\" x=\"169.009\" y=\"-120.1\">input:</text>\n",
       "<polyline fill=\"none\" points=\"141.173,-111.9 196.844,-111.9 \" stroke=\"black\"/>\n",
       "<text font-family=\"Times,serif\" font-size=\"14.00\" text-anchor=\"middle\" x=\"169.009\" y=\"-95.3\">output:</text>\n",
       "<polyline fill=\"none\" points=\"196.844,-87.1 196.844,-136.7 \" stroke=\"black\"/>\n",
       "<text font-family=\"Times,serif\" font-size=\"14.00\" text-anchor=\"middle\" x=\"231.666\" y=\"-120.1\">(None, 3)</text>\n",
       "<polyline fill=\"none\" points=\"196.844,-111.9 266.487,-111.9 \" stroke=\"black\"/>\n",
       "<text font-family=\"Times,serif\" font-size=\"14.00\" text-anchor=\"middle\" x=\"231.666\" y=\"-95.3\">(None, 4)</text>\n",
       "</g>\n",
       "<!-- 4695612112&#45;&gt;4696661456 -->\n",
       "<g class=\"edge\" id=\"edge3\"><title>4695612112-&gt;4696661456</title>\n",
       "<path d=\"M148.992,-173.483C148.992,-165.267 148.992,-155.912 148.992,-147.052\" fill=\"none\" stroke=\"black\"/>\n",
       "<polygon fill=\"black\" points=\"152.492,-146.977 148.992,-136.977 145.492,-146.977 152.492,-146.977\" stroke=\"black\"/>\n",
       "</g>\n",
       "<!-- 4696716368 -->\n",
       "<g class=\"node\" id=\"node5\"><title>4696716368</title>\n",
       "<polygon fill=\"none\" points=\"7.7721,-0.5 7.7721,-50.1 290.212,-50.1 290.212,-0.5 7.7721,-0.5\" stroke=\"black\"/>\n",
       "<text font-family=\"Times,serif\" font-size=\"14.00\" text-anchor=\"middle\" x=\"86.3349\" y=\"-21.1\">activation_2 (Activation)</text>\n",
       "<polyline fill=\"none\" points=\"164.898,-0.5 164.898,-50.1 \" stroke=\"black\"/>\n",
       "<text font-family=\"Times,serif\" font-size=\"14.00\" text-anchor=\"middle\" x=\"192.734\" y=\"-33.5\">input:</text>\n",
       "<polyline fill=\"none\" points=\"164.898,-25.3 220.57,-25.3 \" stroke=\"black\"/>\n",
       "<text font-family=\"Times,serif\" font-size=\"14.00\" text-anchor=\"middle\" x=\"192.734\" y=\"-8.7\">output:</text>\n",
       "<polyline fill=\"none\" points=\"220.57,-0.5 220.57,-50.1 \" stroke=\"black\"/>\n",
       "<text font-family=\"Times,serif\" font-size=\"14.00\" text-anchor=\"middle\" x=\"255.391\" y=\"-33.5\">(None, 4)</text>\n",
       "<polyline fill=\"none\" points=\"220.57,-25.3 290.212,-25.3 \" stroke=\"black\"/>\n",
       "<text font-family=\"Times,serif\" font-size=\"14.00\" text-anchor=\"middle\" x=\"255.391\" y=\"-8.7\">(None, 4)</text>\n",
       "</g>\n",
       "<!-- 4696661456&#45;&gt;4696716368 -->\n",
       "<g class=\"edge\" id=\"edge4\"><title>4696661456-&gt;4696716368</title>\n",
       "<path d=\"M148.992,-86.8833C148.992,-78.6673 148.992,-69.3117 148.992,-60.4518\" fill=\"none\" stroke=\"black\"/>\n",
       "<polygon fill=\"black\" points=\"152.492,-60.3767 148.992,-50.3767 145.492,-60.3768 152.492,-60.3767\" stroke=\"black\"/>\n",
       "</g>\n",
       "</g>\n",
       "</svg>"
      ],
      "text/plain": [
       "<IPython.core.display.SVG object>"
      ]
     },
     "execution_count": 4,
     "metadata": {},
     "output_type": "execute_result"
    }
   ],
   "source": [
    "from IPython.display import SVG\n",
    "from keras.utils.visualize_util import model_to_dot\n",
    "\n",
    "SVG(model_to_dot(model, show_shapes=True).create(prog='dot', format='svg'))"
   ]
  },
  {
   "cell_type": "markdown",
   "metadata": {
    "slideshow": {
     "slide_type": "subslide"
    }
   },
   "source": [
    "## Training data\n"
   ]
  },
  {
   "cell_type": "code",
   "execution_count": 5,
   "metadata": {
    "collapsed": false,
    "scrolled": true,
    "slideshow": {
     "slide_type": "fragment"
    }
   },
   "outputs": [
    {
     "data": {
      "text/html": [
       "<div>\n",
       "<table border=\"1\" class=\"dataframe\">\n",
       "  <thead>\n",
       "    <tr style=\"text-align: right;\">\n",
       "      <th></th>\n",
       "      <th>Big Ears</th>\n",
       "      <th>Big Teeth</th>\n",
       "      <th>Handsome</th>\n",
       "      <th>Wrinkled</th>\n",
       "      <th>Scream</th>\n",
       "      <th>Hug</th>\n",
       "      <th>Food</th>\n",
       "      <th>Kiss</th>\n",
       "    </tr>\n",
       "  </thead>\n",
       "  <tbody>\n",
       "    <tr>\n",
       "      <th>0</th>\n",
       "      <td>1</td>\n",
       "      <td>1</td>\n",
       "      <td>0</td>\n",
       "      <td>0</td>\n",
       "      <td>1</td>\n",
       "      <td>0</td>\n",
       "      <td>0</td>\n",
       "      <td>0</td>\n",
       "    </tr>\n",
       "    <tr>\n",
       "      <th>1</th>\n",
       "      <td>1</td>\n",
       "      <td>0</td>\n",
       "      <td>1</td>\n",
       "      <td>0</td>\n",
       "      <td>0</td>\n",
       "      <td>0</td>\n",
       "      <td>1</td>\n",
       "      <td>1</td>\n",
       "    </tr>\n",
       "    <tr>\n",
       "      <th>2</th>\n",
       "      <td>0</td>\n",
       "      <td>0</td>\n",
       "      <td>0</td>\n",
       "      <td>1</td>\n",
       "      <td>0</td>\n",
       "      <td>1</td>\n",
       "      <td>1</td>\n",
       "      <td>0</td>\n",
       "    </tr>\n",
       "  </tbody>\n",
       "</table>\n",
       "</div>"
      ],
      "text/plain": [
       "   Big Ears  Big Teeth  Handsome  Wrinkled  Scream  Hug  Food  Kiss\n",
       "0         1          1         0         0       1    0     0     0\n",
       "1         1          0         1         0       0    0     1     1\n",
       "2         0          0         0         1       0    1     1     0"
      ]
     },
     "execution_count": 5,
     "metadata": {},
     "output_type": "execute_result"
    }
   ],
   "source": [
    "X = [[1,1,0,0], [1,0,1,0], [0,0,0,1]]\n",
    "Y = [[1,0,0,0], [0,0,1,1], [0,1,1,0]]\n",
    "df = pd.DataFrame(X, columns=['Big Ears', 'Big Teeth', 'Handsome', 'Wrinkled'])\n",
    "df.join(pd.DataFrame(Y, columns=['Scream', 'Hug', 'Food', 'Kiss']))"
   ]
  },
  {
   "cell_type": "markdown",
   "metadata": {
    "slideshow": {
     "slide_type": "subslide"
    }
   },
   "source": [
    "## Training"
   ]
  },
  {
   "cell_type": "code",
   "execution_count": 6,
   "metadata": {
    "collapsed": false,
    "scrolled": false,
    "slideshow": {
     "slide_type": "fragment"
    }
   },
   "outputs": [
    {
     "data": {
      "text/plain": [
       "<matplotlib.text.Text at 0x11b4ed750>"
      ]
     },
     "execution_count": 6,
     "metadata": {},
     "output_type": "execute_result"
    },
    {
     "data": {
      "image/png": "[encoded data removed]",
      "text/plain": [
       "<matplotlib.figure.Figure at 0x118dd3950>"
      ]
     },
     "metadata": {},
     "output_type": "display_data"
    }
   ],
   "source": [
    "history = model.fit(X, Y, nb_epoch=1000, batch_size=3,verbose=0)\n",
    "plt.plot(history.history['loss'])\n",
    "plt.xlabel('Epoch')\n",
    "plt.ylabel('Loss')"
   ]
  },
  {
   "cell_type": "markdown",
   "metadata": {
    "slideshow": {
     "slide_type": "subslide"
    }
   },
   "source": [
    "## Prediction"
   ]
  },
  {
   "cell_type": "code",
   "execution_count": 7,
   "metadata": {
    "collapsed": false,
    "slideshow": {
     "slide_type": "skip"
    }
   },
   "outputs": [],
   "source": [
    "def lrrh_input(vals):\n",
    "    return pd.DataFrame(vals.T,index=['big ears', 'big teeth', 'handsome', 'wrinkled'], columns=['input'])\n",
    "\n",
    "def lrrh_output(vals):\n",
    "    return pd.DataFrame(vals.T,index=['scream', 'hug', 'offer food', 'kiss cheek'], columns=['output'])"
   ]
  },
  {
   "cell_type": "code",
   "execution_count": 8,
   "metadata": {
    "collapsed": false,
    "slideshow": {
     "slide_type": "fragment"
    }
   },
   "outputs": [
    {
     "name": "stdout",
     "output_type": "stream",
     "text": [
      "           input\n",
      "big ears       1\n",
      "big teeth      1\n",
      "handsome       0\n",
      "wrinkled       0\n",
      "              output\n",
      "scream      0.907424\n",
      "hug         0.073242\n",
      "offer food  0.081095\n",
      "kiss cheek  0.060945\n"
     ]
    }
   ],
   "source": [
    "in_vals = np.array([[1, 1, 0, 0]])\n",
    "print(lrrh_input(in_vals))\n",
    "print(lrrh_output(model.predict(in_vals)[0]))"
   ]
  },
  {
   "cell_type": "markdown",
   "metadata": {
    "collapsed": false,
    "scrolled": true,
    "slideshow": {
     "slide_type": "slide"
    }
   },
   "source": [
    "## Internal representation"
   ]
  },
  {
   "cell_type": "code",
   "execution_count": 9,
   "metadata": {
    "collapsed": true,
    "slideshow": {
     "slide_type": "fragment"
    }
   },
   "outputs": [],
   "source": [
    "from keras import backend as K\n",
    "get_internal = K.function([model.layers[0].input, K.learning_phase()],\n",
    "                                  [model.layers[1].output]) "
   ]
  },
  {
   "cell_type": "code",
   "execution_count": 10,
   "metadata": {
    "collapsed": false,
    "slideshow": {
     "slide_type": "fragment"
    }
   },
   "outputs": [
    {
     "data": {
      "text/html": [
       "<div>\n",
       "<table border=\"1\" class=\"dataframe\">\n",
       "  <thead>\n",
       "    <tr style=\"text-align: right;\">\n",
       "      <th></th>\n",
       "      <th>Big Ears</th>\n",
       "      <th>Big Teeth</th>\n",
       "      <th>Handsome</th>\n",
       "      <th>Wrinkled</th>\n",
       "      <th>N1</th>\n",
       "      <th>N2</th>\n",
       "      <th>N3</th>\n",
       "      <th>Scream</th>\n",
       "      <th>Hug</th>\n",
       "      <th>Food</th>\n",
       "      <th>Kiss</th>\n",
       "    </tr>\n",
       "  </thead>\n",
       "  <tbody>\n",
       "    <tr>\n",
       "      <th>0</th>\n",
       "      <td>1</td>\n",
       "      <td>1</td>\n",
       "      <td>0</td>\n",
       "      <td>0</td>\n",
       "      <td>0.213955</td>\n",
       "      <td>0.863976</td>\n",
       "      <td>0.978094</td>\n",
       "      <td>1</td>\n",
       "      <td>0</td>\n",
       "      <td>0</td>\n",
       "      <td>0</td>\n",
       "    </tr>\n",
       "    <tr>\n",
       "      <th>1</th>\n",
       "      <td>1</td>\n",
       "      <td>0</td>\n",
       "      <td>1</td>\n",
       "      <td>0</td>\n",
       "      <td>0.717992</td>\n",
       "      <td>0.032653</td>\n",
       "      <td>0.281343</td>\n",
       "      <td>0</td>\n",
       "      <td>0</td>\n",
       "      <td>1</td>\n",
       "      <td>1</td>\n",
       "    </tr>\n",
       "    <tr>\n",
       "      <th>2</th>\n",
       "      <td>0</td>\n",
       "      <td>0</td>\n",
       "      <td>0</td>\n",
       "      <td>1</td>\n",
       "      <td>0.818352</td>\n",
       "      <td>0.946012</td>\n",
       "      <td>0.025560</td>\n",
       "      <td>0</td>\n",
       "      <td>1</td>\n",
       "      <td>1</td>\n",
       "      <td>0</td>\n",
       "    </tr>\n",
       "  </tbody>\n",
       "</table>\n",
       "</div>"
      ],
      "text/plain": [
       "   Big Ears  Big Teeth  Handsome  Wrinkled        N1        N2        N3  \\\n",
       "0         1          1         0         0  0.213955  0.863976  0.978094   \n",
       "1         1          0         1         0  0.717992  0.032653  0.281343   \n",
       "2         0          0         0         1  0.818352  0.946012  0.025560   \n",
       "\n",
       "   Scream  Hug  Food  Kiss  \n",
       "0       1    0     0     0  \n",
       "1       0    0     1     1  \n",
       "2       0    1     1     0  "
      ]
     },
     "execution_count": 10,
     "metadata": {},
     "output_type": "execute_result"
    }
   ],
   "source": [
    "df = pd.DataFrame(X, columns=['Big Ears', 'Big Teeth', 'Handsome', 'Wrinkled'])\n",
    "df = df.join(pd.DataFrame(get_internal([X,0])[0], columns=['N1', 'N2', 'N3']))\n",
    "df.join(pd.DataFrame(Y, columns=['Scream', 'Hug', 'Food', 'Kiss'])) "
   ]
  }
 ],
 "metadata": {
  "celltoolbar": "Slideshow",
  "kernelspec": {
   "display_name": "Python 2",
   "language": "python",
   "name": "python2"
  },
  "language_info": {
   "codemirror_mode": {
    "name": "ipython",
    "version": 2
   },
   "file_extension": ".py",
   "mimetype": "text/x-python",
   "name": "python",
   "nbconvert_exporter": "python",
   "pygments_lexer": "ipython2",
   "version": "2.7.11"
  },
  "livereveal": {
   "center": "true",
   "theme": "black",
   "transition": "zoom"
  }
 },
 "nbformat": 4,
 "nbformat_minor": 0
}
